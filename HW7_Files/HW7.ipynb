{
 "cells": [
  {
   "cell_type": "markdown",
   "metadata": {},
   "source": [
    "# HW7\n",
    "\n",
    "Name: James Railey Cabrera"
   ]
  },
  {
   "cell_type": "code",
   "execution_count": 9,
   "metadata": {},
   "outputs": [],
   "source": [
    "# inside of the HW7_Files folder there is a text file called Dracula.txt that we will be using for this assignment\n",
    "\n",
    "# read in the Dracula.txt file and store it in a variable called dracula_text\n",
    "# Note the file is utf-8 encoded\n",
    "with open(\"Dracula.txt\", encoding=\"utf-8\") as f:\n",
    "\n",
    "    dracula_text = f.read()"
   ]
  },
  {
   "cell_type": "code",
   "execution_count": 11,
   "metadata": {},
   "outputs": [],
   "source": [
    "# Create a method that will get the text inbetween the Gutenberg and START OF THIS PROJECT GUTENBERG EBOOK DRACULA lines. Name the method get_text(text) and have it return the text inbetween the two lines.\n",
    "# You can look for the following 2 strings:\n",
    "# *** START OF THE PROJECT GUTENBERG EBOOK DRACULA ***\n",
    "# *** END OF THE PROJECT GUTENBERG EBOOK DRACULA ***\n",
    "# Update the variable called dracula_text that is the result of calling the get_text method on the dracula_text variable\n",
    "def get_text(text):\n",
    "    start = text.find(\"*** START OF THE PROJECT GUTENBERG EBOOK DRACULA ***\")\n",
    "    end = text.find(\"*** END OF THE PROJECT GUTENBERG EBOOK DRACULA ***\")\n",
    "    return text[start:end]\n",
    "return_text = get_text(dracula_text)"
   ]
  },
  {
   "cell_type": "code",
   "execution_count": 12,
   "metadata": {},
   "outputs": [],
   "source": [
    "# Clean the text by removing all punctuation and numbers. You can use the replace method to do this. Replace all punctuation and numbers with an empty string.\n",
    "import string\n",
    "def cleaned_text (text):\n",
    "    cleaned_text = str.maketrans(\"\",\"\", string.punctuation + string.digits)\n",
    "    cleaned_text = text.translate(cleaned_text)\n",
    "    return cleaned_text\n",
    "dracula_text = cleaned_text(return_text)"
   ]
  },
  {
   "cell_type": "code",
   "execution_count": 17,
   "metadata": {},
   "outputs": [
    {
     "name": "stdout",
     "output_type": "stream",
     "text": [
      "865753\n",
      "Total words in chapter 5: 5\n"
     ]
    }
   ],
   "source": [
    "# Answer the following questions using python code:\n",
    "# 1. What is the total number of words in the text?\n",
    "print(len(dracula_text))\n",
    "# 2. What is the total number of unique words in the text?\n",
    "unique_words = set(dracula_text.split())\n",
    "\n",
    "# 3. How many times is the word 'vampire' used in the text?\n",
    "vampire_count = dracula_text.count(\"vampire\")\n",
    "# 4. What is the name of Chapter 5?\n",
    "# Note in the text chapters are in roman numerals (5 is V)\n",
    "chapter_5 = dracula_text.find(\"CHAPTER V\")\n",
    "# 5. What is the total number of words in Chapter 5?\n",
    "# Hints:\n",
    "# To get just the text for chapter 5 you can use slicing between the start and end of chapter 5\n",
    "# To find the start of chapter 5 you can use the find method to find the index of the string 'CHAPTER V'\n",
    "# To find the end of chapter 5 you can use the find method to find the index of the string 'CHAPTER VI'\n",
    "# Then you can use slicing to get the text inbetween the start and end of chapter 5\n",
    "# IE find 'CHAPTER V' : find 'CHAPTER VI'\n",
    "# Then find the length of the text for the result of the slicing\n",
    "\n",
    "start_c5 = dracula_text.find(\"CHAPTER V\")\n",
    "end_c5 = dracula_text.find(\"CHAPTER VI\")\n",
    "\n",
    "text_chapter_5 = dracula_text[start_c5:end_c5].strip()\n",
    "total_words_chapter_5 = len(text_chapter_5.split())\n",
    "\n",
    "print(f\"Total words in chapter 5: {total_words_chapter_5}\")\n"
   ]
  }
 ],
 "metadata": {
  "kernelspec": {
   "display_name": "venv",
   "language": "python",
   "name": "python3"
  },
  "language_info": {
   "codemirror_mode": {
    "name": "ipython",
    "version": 3
   },
   "file_extension": ".py",
   "mimetype": "text/x-python",
   "name": "python",
   "nbconvert_exporter": "python",
   "pygments_lexer": "ipython3",
   "version": "3.11.6"
  }
 },
 "nbformat": 4,
 "nbformat_minor": 2
}
